{
  "cells": [
    {
      "cell_type": "code",
      "execution_count": null,
      "metadata": {
        "id": "rdtGOYAkuevS"
      },
      "outputs": [],
      "source": []
    },
    {
      "cell_type": "code",
      "execution_count": 7,
      "metadata": {},
      "outputs": [
        {
          "name": "stdout",
          "output_type": "stream",
          "text": [
            "\n"
          ]
        }
      ],
      "source": [
        "from selenium import webdriver\n",
        "from selenium.webdriver.chrome.service import Service\n",
        "from webdriver_manager.chrome import ChromeDriverManager\n",
        "\n",
        "driver = webdriver.Chrome(service=Service(ChromeDriverManager().install()))\n",
        "driver.get(\"https://www.google.com\")\n"
      ]
    },
    {
      "cell_type": "code",
      "execution_count": 8,
      "metadata": {
        "id": "gXUqzzsWsWb1"
      },
      "outputs": [
        {
          "name": "stdout",
          "output_type": "stream",
          "text": [
            "\n"
          ]
        }
      ],
      "source": [
        "import pandas as pd\n",
        "import numpy as np\n",
        "import zipfile as zf\n",
        "from selenium import webdriver\n",
        "import time\n",
        "import datetime\n",
        "from selenium.webdriver.chrome.service import Service\n",
        "from webdriver_manager.chrome import ChromeDriverManager\n",
        "from selenium.webdriver.common.by import By\n",
        "from selenium.webdriver.chrome.options import Options\n",
        "start=datetime.datetime.now()\n",
        "\n",
        "#object of Options\n",
        "o = Options()\n",
        "driver = webdriver.Chrome( service=Service(ChromeDriverManager().install()))\n",
        "driver.minimize_window()\n",
        "driver.get(\"https://www.cnbc.com/quotes/US10Y\")\n",
        "a=driver.find_element(by=By.XPATH, value='//*[@id=\"quote-page-strip\"]/div[3]/div/div[2]/span[1]').text\n",
        "driver.close()"
      ]
    },
    {
      "cell_type": "code",
      "execution_count": null,
      "metadata": {},
      "outputs": [],
      "source": []
    },
    {
      "cell_type": "code",
      "execution_count": 9,
      "metadata": {
        "id": "1rCDbZUBqjap"
      },
      "outputs": [
        {
          "name": "stdout",
          "output_type": "stream",
          "text": [
            "\n"
          ]
        }
      ],
      "source": [
        "driver = webdriver.Chrome( service=Service(ChromeDriverManager().install()), options=o)\n",
        "driver.minimize_window()\n",
        "driver.get(\"https://in.investing.com/indices/nasdaq-composite-historical-data\")\n",
        "b=driver.find_element(by=By.XPATH, value='//*[@id=\"js-main-container\"]/section[2]/div/section[2]/section[2]/div[1]/div/table/tbody/tr[1]/td[3]/span').text\n",
        "########################################//*[@id=\"historical_data_table\"]/div/table/tbody/tr[1]/td[2]\n",
        "c=driver.find_element(by=By.XPATH, value='//*[@id=\"js-main-container\"]/section[2]/div/section[2]/section[2]/div[1]/div/table/tbody/tr[1]/td[2]/span').text\n",
        "d=driver.find_element(by=By.XPATH, value='//*[@id=\"js-main-container\"]/section[2]/div/section[2]/section[2]/div[1]/div/table/tbody/tr[1]/td[7]/span').text\n",
        "##########################################//*[@id=\"quote_changePer\"]\n",
        "driver.close()\n"
      ]
    },
    {
      "cell_type": "code",
      "execution_count": 10,
      "metadata": {
        "id": "jNybMzBmqnlF"
      },
      "outputs": [
        {
          "name": "stdout",
          "output_type": "stream",
          "text": [
            "\n"
          ]
        }
      ],
      "source": [
        "\n",
        "driver = webdriver.Chrome( service=Service(ChromeDriverManager().install()), options=o)\n",
        "driver.minimize_window()\n",
        "driver.get(\"https://www.fbil.org.in/#/home\")\n",
        "driver.find_element(by=By.XPATH, value='//*[@id=\"content-A\"]/b').click()\n",
        "e=driver.find_element(by=By.XPATH, value='//*[@id=\"MIBOR\"]/tbody/tr[1]/td[4]/div').text\n",
        "driver.close()\n"
      ]
    },
    {
      "cell_type": "code",
      "execution_count": 11,
      "metadata": {
        "id": "wrBGyJA2qqK5"
      },
      "outputs": [
        {
          "name": "stdout",
          "output_type": "stream",
          "text": [
            "\n"
          ]
        }
      ],
      "source": [
        "\n",
        "driver = webdriver.Chrome( service=Service(ChromeDriverManager().install()), options=o)\n",
        "driver.minimize_window()\n",
        "driver.get(\"https://in.investing.com/currencies/usd-inr-historical-data\")\n",
        "f=driver.find_element(by=By.XPATH, value='//*[@id=\"js-main-container\"]/section[1]/div/section[2]/section[2]/div[1]/div/table/tbody/tr[1]/td[3]/span').text\n",
        "g=driver.find_element(by=By.XPATH, value='//*[@id=\"js-main-container\"]/section[1]/div/section[2]/section[2]/div[1]/div/table/tbody/tr[1]/td[2]/span').text\n",
        "h=driver.find_element(by=By.XPATH, value='//*[@id=\"js-main-container\"]/section[1]/div/section[2]/section[2]/div[1]/div/table/tbody/tr[1]/td[7]/span').text\n",
        "driver.close()\n",
        "\n"
      ]
    },
    {
      "cell_type": "code",
      "execution_count": 12,
      "metadata": {
        "id": "AvEfysllquJ_"
      },
      "outputs": [
        {
          "name": "stdout",
          "output_type": "stream",
          "text": [
            "\n"
          ]
        }
      ],
      "source": [
        "driver = webdriver.Chrome( service=Service(ChromeDriverManager().install()), options=o)\n",
        "driver.minimize_window()\n",
        "driver.get(\"https://in.investing.com/commodities/brent-oil\")\n",
        "brent=driver.find_element(by=By.XPATH, value='/html/body/div[1]/div[4]/section[2]/div/header/div/div[2]/div[1]/div[1]/bdo').text\n",
        "\n",
        "driver.close()\n",
        "\n"
      ]
    },
    {
      "cell_type": "code",
      "execution_count": 13,
      "metadata": {
        "id": "TV1KQ-BxqzoG"
      },
      "outputs": [
        {
          "name": "stdout",
          "output_type": "stream",
          "text": [
            "\n"
          ]
        }
      ],
      "source": [
        "driver = webdriver.Chrome( service=Service(ChromeDriverManager().install()), options=o)\n",
        "driver.minimize_window()\n",
        "driver.get(\"https://sgxnifty.org/\")\n",
        "j=driver.find_element(by=By.XPATH, value='//*[@id=\"indexes-div\"]/div[1]/div[4]/table/tbody/tr/td[3]').text\n",
        "k=driver.find_element(by=By.XPATH, value='//*[@id=\"indexes-div\"]/div[1]/div[3]/table/tbody/tr/td[1]').text\n",
        "l=driver.find_element(by=By.XPATH, value='//*[@id=\"indexes-div\"]/div[1]/div[3]/table/tbody/tr/td[3]').text\n",
        "driver.close()\n"
      ]
    },
    {
      "cell_type": "code",
      "execution_count": 14,
      "metadata": {
        "id": "YIb-iMx8q4TY"
      },
      "outputs": [
        {
          "name": "stdout",
          "output_type": "stream",
          "text": [
            "\n"
          ]
        }
      ],
      "source": [
        "\n",
        "driver = webdriver.Chrome( service=Service(ChromeDriverManager().install()), options=o)\n",
        "driver.minimize_window()\n",
        "driver.get(\"https://www.wsj.com/market-data/quotes/index/IN/NATIONAL%20STOCK%20EXCHANGE%20OF%20INDIA/NIFTY50/historical-prices\")\n",
        "m=driver.find_element(by=By.XPATH, value='//*[@id=\"historical_data_table\"]/div/table/tbody/tr[1]/td[2]').text\n",
        "n=driver.find_element(by=By.XPATH, value='//*[@id=\"historical_data_table\"]/div/table/tbody/tr[1]/td[5]').text\n",
        "z=driver.find_element(by=By.XPATH, value='//*[@id=\"quote_changePer\"]').text\n",
        "driver.close()\n"
      ]
    },
    {
      "cell_type": "code",
      "execution_count": 15,
      "metadata": {
        "id": "Xlaf6NUzq6eV"
      },
      "outputs": [
        {
          "name": "stdout",
          "output_type": "stream",
          "text": [
            "\n"
          ]
        }
      ],
      "source": [
        "\n",
        "driver = webdriver.Chrome( service=Service(ChromeDriverManager().install()), options=o)\n",
        "driver.minimize_window()\n",
        "driver.get(\"https://www.wsj.com/market-data/quotes/index/IN/1/historical-prices\")\n",
        "p=driver.find_element(by=By.XPATH, value='//*[@id=\"historical_data_table\"]/div/table/tbody/tr[1]/td[2]').text\n",
        "q=driver.find_element(by=By.XPATH, value='//*[@id=\"historical_data_table\"]/div/table/tbody/tr[1]/td[5]').text\n",
        "r=driver.find_element(by=By.XPATH, value='//*[@id=\"quote_changePer\"]').text\n",
        "driver.close()\n",
        "\n",
        "\n"
      ]
    },
    {
      "cell_type": "code",
      "execution_count": null,
      "metadata": {
        "id": "yMDghTrLq-Do"
      },
      "outputs": [],
      "source": [
        "driver = webdriver.Chrome( service=Service(ChromeDriverManager().install()), options=o)\n",
        "driver.minimize_window()\n",
        "driver.get(\"https://www.ccilindia.com/OMHome.aspx\")\n",
        "s=driver.find_element(by=By.XPATH, value='//*[@id=\"grdNDSOMReg\"]/tbody/tr[2]/td[10]').text\n",
        "driver.close()"
      ]
    },
    {
      "cell_type": "code",
      "execution_count": null,
      "metadata": {
        "id": "yygrH-UtrBiR"
      },
      "outputs": [],
      "source": [
        "driver = webdriver.Chrome( service=Service(ChromeDriverManager().install()), options=o)\n",
        "driver.minimize_window()\n",
        "driver.get(\"https://www.ccilindia.com/OMMWSG.aspx\")\n",
        "prev=0\n",
        "for i in range(1,10):\n",
        "    t=driver.find_element(by=By.XPATH, value=f'//*[@id=\"grdMWSG\"]/tbody/tr[{i}]/td[2]').text[-4:]\n",
        "    if t=='2032':\n",
        "        u=driver.find_element(by=By.XPATH, value=f'//*[@id=\"grdMWSG\"]/tbody/tr[{i}]/td[7]').text\n",
        "        if ((float(u))>prev):\n",
        "            prev=float(u)        \n",
        "driver.close()"
      ]
    },
    {
      "cell_type": "code",
      "execution_count": 17,
      "metadata": {
        "id": "jikYimVJrDxo"
      },
      "outputs": [
        {
          "name": "stdout",
          "output_type": "stream",
          "text": [
            "Market Update\n",
            "23-07-2022\n",
            "US 10 Year Try Yield :  2.754%\n",
            "US inflation rate     :  9.1% \n",
            "NASDAQ               :  12,025.37/11,834.11(-1.87%)\n",
            "MIBOR Rate            :  4.87\n",
            "USD/INR              : Rs. 79.883/79.830*(-0.03%) \n",
            "BRENT CRUDE          : $ 103.61\n",
            "SGX NIFTY            : 16,640.00/16,634.50*(-0.54%)\n",
            "CNX NIFTY            : 16661.25/16719.45(0.69%)\n",
            "BSE SENSEX           : 55800.84/56072.23(0.70%)\n",
            " \n"
          ]
        },
        {
          "ename": "NameError",
          "evalue": "name 's' is not defined",
          "output_type": "error",
          "traceback": [
            "\u001b[1;31m---------------------------------------------------------------------------\u001b[0m",
            "\u001b[1;31mNameError\u001b[0m                                 Traceback (most recent call last)",
            "\u001b[1;32mc:\\D\\programs\\focus\\Market Data\\Scrapper.ipynb Cell 14\u001b[0m in \u001b[0;36m<cell line: 13>\u001b[1;34m()\u001b[0m\n\u001b[0;32m     <a href='vscode-notebook-cell:/c%3A/D/programs/focus/Market%20Data/Scrapper.ipynb#ch0000013?line=10'>11</a>\u001b[0m \u001b[39mprint\u001b[39m(\u001b[39mf\u001b[39m\u001b[39m\"\u001b[39m\u001b[39mBSE SENSEX           : \u001b[39m\u001b[39m{\u001b[39;00mp\u001b[39m}\u001b[39;00m\u001b[39m/\u001b[39m\u001b[39m{\u001b[39;00mq\u001b[39m}\u001b[39;00m\u001b[39m(\u001b[39m\u001b[39m{\u001b[39;00mr\u001b[39m}\u001b[39;00m\u001b[39m)\u001b[39m\u001b[39m\"\u001b[39m)\n\u001b[0;32m     <a href='vscode-notebook-cell:/c%3A/D/programs/focus/Market%20Data/Scrapper.ipynb#ch0000013?line=11'>12</a>\u001b[0m \u001b[39mprint\u001b[39m(\u001b[39m\"\u001b[39m\u001b[39m \u001b[39m\u001b[39m\"\u001b[39m)\n\u001b[1;32m---> <a href='vscode-notebook-cell:/c%3A/D/programs/focus/Market%20Data/Scrapper.ipynb#ch0000013?line=12'>13</a>\u001b[0m \u001b[39mprint\u001b[39m(\u001b[39mf\u001b[39m\u001b[39m\"\u001b[39m\u001b[39m6.54% GS 2032        : \u001b[39m\u001b[39m{\u001b[39;00ms\u001b[39m}\u001b[39;00m\u001b[39m% \u001b[39m\u001b[39m\"\u001b[39m)\n\u001b[0;32m     <a href='vscode-notebook-cell:/c%3A/D/programs/focus/Market%20Data/Scrapper.ipynb#ch0000013?line=13'>14</a>\u001b[0m \u001b[39mprint\u001b[39m(\u001b[39mf\u001b[39m\u001b[39m\"\u001b[39m\u001b[39m10 year SDL Rate     : \u001b[39m\u001b[39m{\u001b[39;00mprev\u001b[39m}\u001b[39;00m\u001b[39m%\u001b[39m\u001b[39m\"\u001b[39m)\n\u001b[0;32m     <a href='vscode-notebook-cell:/c%3A/D/programs/focus/Market%20Data/Scrapper.ipynb#ch0000013?line=14'>15</a>\u001b[0m \u001b[39mprint\u001b[39m(\u001b[39m\"\u001b[39m\u001b[39m5 year PSU(AAA)      : 7.53\u001b[39m\u001b[39m%\u001b[39m\u001b[39m\"\u001b[39m)\n",
            "\u001b[1;31mNameError\u001b[0m: name 's' is not defined"
          ]
        }
      ],
      "source": [
        "\n",
        "print('Market Update')\n",
        "print(datetime.datetime.now().strftime('%d-%m-%Y'))\n",
        "print('US 10 Year Try Yield : ' , a)\n",
        "print('US inflation rate     :  9.1% ')\n",
        "print(f'NASDAQ               :  {b}/{c}({(d)})')\n",
        "print(\"MIBOR Rate            : \" , e )\n",
        "print(f\"USD/INR              : Rs. {f}/{g}*({h}) \"  )\n",
        "print(f\"BRENT CRUDE          : $ {brent}\")\n",
        "print(f\"SGX NIFTY            : {j}/{k}*({l})\")\n",
        "print(f\"CNX NIFTY            : {m}/{n}({z})\")\n",
        "print(f\"BSE SENSEX           : {p}/{q}({r})\")\n",
        "print(\" \")\n",
        "print(f\"6.54% GS 2032        : {s}% \")\n",
        "print(f\"10 year SDL Rate     : {prev}%\")\n",
        "print(\"5 year PSU(AAA)      : 7.53%\")\n",
        "print(\"10 year PSU(AAA)     : 7.73% \")\n",
        "print(datetime.datetime.now()-start)"
      ]
    },
    {
      "cell_type": "code",
      "execution_count": 31,
      "metadata": {
        "id": "D5ITwOL3rFXR"
      },
      "outputs": [
        {
          "ename": "NameError",
          "evalue": "name 's' is not defined",
          "output_type": "error",
          "traceback": [
            "\u001b[1;31m---------------------------------------------------------------------------\u001b[0m",
            "\u001b[1;31mNameError\u001b[0m                                 Traceback (most recent call last)",
            "\u001b[1;32mc:\\Users\\DELL\\Downloads\\Scrapper.ipynb Cell 15\u001b[0m in \u001b[0;36m<cell line: 1>\u001b[1;34m()\u001b[0m\n\u001b[1;32m----> <a href='vscode-notebook-cell:/c%3A/Users/DELL/Downloads/Scrapper.ipynb#ch0000012?line=0'>1</a>\u001b[0m \u001b[39mprint\u001b[39m(s)\n",
            "\u001b[1;31mNameError\u001b[0m: name 's' is not defined"
          ]
        }
      ],
      "source": [
        "print(s)"
      ]
    },
    {
      "cell_type": "code",
      "execution_count": null,
      "metadata": {},
      "outputs": [],
      "source": []
    }
  ],
  "metadata": {
    "colab": {
      "collapsed_sections": [],
      "name": "Untitled11.ipynb",
      "provenance": [],
      "toc_visible": true
    },
    "kernelspec": {
      "display_name": "Python 3.10.4 64-bit",
      "language": "python",
      "name": "python3"
    },
    "language_info": {
      "codemirror_mode": {
        "name": "ipython",
        "version": 3
      },
      "file_extension": ".py",
      "mimetype": "text/x-python",
      "name": "python",
      "nbconvert_exporter": "python",
      "pygments_lexer": "ipython3",
      "version": "3.10.4"
    },
    "vscode": {
      "interpreter": {
        "hash": "26de051ba29f2982a8de78e945f0abaf191376122a1563185a90213a26c5da77"
      }
    }
  },
  "nbformat": 4,
  "nbformat_minor": 0
}
